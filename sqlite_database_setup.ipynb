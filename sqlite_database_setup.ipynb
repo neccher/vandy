{
 "cells": [
  {
   "cell_type": "code",
   "execution_count": 1,
   "id": "31cffe38",
   "metadata": {},
   "outputs": [],
   "source": [
    "# Dependencies\n",
    "import numpy as np\n",
    "\n",
    "# Python SQL toolkit and Object Relational Mapper\n",
    "import sqlalchemy\n",
    "from sqlalchemy.ext.automap import automap_base\n",
    "from sqlalchemy.orm import Session\n",
    "from sqlalchemy import create_engine, func\n",
    "import sqlite3 as sq\n",
    "import datetime as dt\n",
    "import pandas as pd"
   ]
  },
  {
   "cell_type": "code",
   "execution_count": null,
   "id": "0289ead4",
   "metadata": {},
   "outputs": [],
   "source": [
    "# import datasets to be merged\n"
   ]
  },
  {
   "cell_type": "code",
   "execution_count": null,
   "id": "bc0e334b",
   "metadata": {},
   "outputs": [],
   "source": [
    "#export datasets to SQLite Database\n",
    "\n",
    "#weather_data = weather_data.copy()\n",
    "#pollution_data = pollution_data.copy()"
   ]
  },
  {
   "cell_type": "code",
   "execution_count": null,
   "id": "2d448dc3",
   "metadata": {},
   "outputs": [],
   "source": []
  }
 ],
 "metadata": {
  "kernelspec": {
   "display_name": "mlenv",
   "language": "python",
   "name": "mlenv"
  },
  "language_info": {
   "codemirror_mode": {
    "name": "ipython",
    "version": 3
   },
   "file_extension": ".py",
   "mimetype": "text/x-python",
   "name": "python",
   "nbconvert_exporter": "python",
   "pygments_lexer": "ipython3",
   "version": "3.7.10"
  }
 },
 "nbformat": 4,
 "nbformat_minor": 5
}
